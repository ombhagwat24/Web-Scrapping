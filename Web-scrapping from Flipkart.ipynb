{
 "cells": [
  {
   "cell_type": "markdown",
   "id": "d2fd17bb",
   "metadata": {},
   "source": [
    "# `Importing Libraries`"
   ]
  },
  {
   "cell_type": "code",
   "execution_count": 1,
   "id": "e66be44c",
   "metadata": {},
   "outputs": [],
   "source": [
    "import pandas as pd \n",
    "import numpy as np \n",
    "import matplotlib.pyplot as plt \n",
    "import seaborn as sns \n",
    "import re \n",
    "%matplotlib inline \n",
    "\n",
    "import warnings\n",
    "warnings.filterwarnings(\"ignore\")\n",
    "\n",
    "import sys\n",
    "import requests\n",
    "import spacy\n",
    "import pandas as pd\n",
    "import nltk\n",
    "\n",
    "import requests \n",
    "from bs4 import BeautifulSoup\n",
    "from autoscraper import AutoScraper\n",
    "from tqdm import tqdm"
   ]
  },
  {
   "cell_type": "markdown",
   "id": "1b9a1c6d",
   "metadata": {},
   "source": [
    "# `Web-scrapping from flipkart`"
   ]
  },
  {
   "cell_type": "code",
   "execution_count": 2,
   "id": "91fb9a94",
   "metadata": {},
   "outputs": [
    {
     "data": {
      "text/plain": [
       "[{'review': \"It was nice produt. I like it's design a lot.  It's easy to carry. And.   Looked stylish.READ MORE\",\n",
       "  'rating': '5'},\n",
       " {'review': 'awesome sound quality. pros 7-8 hrs of battery life (including 45 mins approx call time)Awesome sound output. Bass and treble are really very clear without equaliser. With equaliser, sound wary depends on the handset sound quality.Weightless to carry and in head tooMic is good, but in traffic it is not too good (3.25/5)3.5mm Option is really important to mention. Really expecting other leading brands to implement this.ConsVery tight in ears. adjusters are ok .. this ll be very tight...READ MORE',\n",
       "  'rating': '4'}]"
      ]
     },
     "execution_count": 2,
     "metadata": {},
     "output_type": "execute_result"
    }
   ],
   "source": [
    "URL = \"https://www.flipkart.com/boat-rockerz-400-bluetooth-headset/product-reviews/itm14d0416b87d55?pid=ACCEJZXYKSG2T9GS&lid=LSTACCEJZXYKSG2T9GSVY4ZIC&marketplace=FLIPKART&page=1\"\n",
    "r = requests.get(URL)    \n",
    "soup = BeautifulSoup(r.content, 'html.parser') \n",
    "\n",
    "row = soup.find_all('div',attrs={'class':'col _2wzgFH K0kLPL'})\n",
    "\n",
    "# list to store data\n",
    "dataset = []\n",
    "\n",
    "# iteration over all blocks\n",
    "for i in row: \n",
    "    \n",
    "    # finding all rows within the block\n",
    "    sub_row = i.find_all('div',attrs={'class':'row'})\n",
    "        \n",
    "    # extracting text from 1st and 2nd row\n",
    "    rating = sub_row[0].find('div').text\n",
    "    review = sub_row[1].find('div').text\n",
    "    \n",
    "    # appending to data\n",
    "    dataset.append({'review': review , 'rating' : rating})\n",
    "dataset[:2]"
   ]
  },
  {
   "cell_type": "code",
   "execution_count": 3,
   "id": "822b60cc",
   "metadata": {},
   "outputs": [
    {
     "name": "stderr",
     "output_type": "stream",
     "text": [
      "100%|███████████████████████████████████████████| 98/98 [01:15<00:00,  1.30it/s]\n"
     ]
    },
    {
     "data": {
      "text/plain": [
       "980"
      ]
     },
     "execution_count": 3,
     "metadata": {},
     "output_type": "execute_result"
    }
   ],
   "source": [
    "dataset = []\n",
    "\n",
    "# iterating over 100 pages of reviews\n",
    "for i in tqdm(range(1,99)):\n",
    "\n",
    "    URL = f\"https://www.flipkart.com/boat-rockerz-400-bluetooth-headset/product-reviews/itm14d0416b87d55?pid=ACCEJZXYKSG2T9GS&lid=LSTACCEJZXYKSG2T9GSVY4ZIC&marketplace=FLIPKART&page={i}\"\n",
    "    r = requests.get(URL)    \n",
    "    soup = BeautifulSoup(r.content, 'html.parser') \n",
    "\n",
    "    cols = soup.find_all('div',attrs={'class':'col _2wzgFH K0kLPL'})\n",
    "\n",
    "    for col in cols:\n",
    "        row = col.find_all('div',attrs={'class':'row'})\n",
    "\n",
    "        rating = row[0].find('div').text\n",
    "        review = row[1].find('div').text\n",
    "\n",
    "        dataset.append({'Reviews': review , 'Rating' : rating})\n",
    "len(dataset)"
   ]
  },
  {
   "cell_type": "code",
   "execution_count": 4,
   "id": "ee8f9bc9",
   "metadata": {},
   "outputs": [
    {
     "data": {
      "text/html": [
       "<div>\n",
       "<style scoped>\n",
       "    .dataframe tbody tr th:only-of-type {\n",
       "        vertical-align: middle;\n",
       "    }\n",
       "\n",
       "    .dataframe tbody tr th {\n",
       "        vertical-align: top;\n",
       "    }\n",
       "\n",
       "    .dataframe thead th {\n",
       "        text-align: right;\n",
       "    }\n",
       "</style>\n",
       "<table border=\"1\" class=\"dataframe\">\n",
       "  <thead>\n",
       "    <tr style=\"text-align: right;\">\n",
       "      <th></th>\n",
       "      <th>Reviews</th>\n",
       "      <th>Rating</th>\n",
       "    </tr>\n",
       "  </thead>\n",
       "  <tbody>\n",
       "    <tr>\n",
       "      <th>0</th>\n",
       "      <td>It was nice produt. I like it's design a lot. ...</td>\n",
       "      <td>5</td>\n",
       "    </tr>\n",
       "    <tr>\n",
       "      <th>1</th>\n",
       "      <td>awesome sound quality. pros 7-8 hrs of battery...</td>\n",
       "      <td>4</td>\n",
       "    </tr>\n",
       "    <tr>\n",
       "      <th>2</th>\n",
       "      <td>awesome sound....very pretty to see this nd th...</td>\n",
       "      <td>5</td>\n",
       "    </tr>\n",
       "    <tr>\n",
       "      <th>3</th>\n",
       "      <td>I think it is such a good product not only as ...</td>\n",
       "      <td>5</td>\n",
       "    </tr>\n",
       "    <tr>\n",
       "      <th>4</th>\n",
       "      <td>Awsome sound powerful bass battery backup is a...</td>\n",
       "      <td>5</td>\n",
       "    </tr>\n",
       "    <tr>\n",
       "      <th>...</th>\n",
       "      <td>...</td>\n",
       "      <td>...</td>\n",
       "    </tr>\n",
       "    <tr>\n",
       "      <th>975</th>\n",
       "      <td>Boat Rockerz 400. This is awesome Headphone on...</td>\n",
       "      <td>5</td>\n",
       "    </tr>\n",
       "    <tr>\n",
       "      <th>976</th>\n",
       "      <td>best purchase  ➡️you can buy this product for ...</td>\n",
       "      <td>4</td>\n",
       "    </tr>\n",
       "    <tr>\n",
       "      <th>977</th>\n",
       "      <td>too good in it's performance , sound quality i...</td>\n",
       "      <td>4</td>\n",
       "    </tr>\n",
       "    <tr>\n",
       "      <th>978</th>\n",
       "      <td>I am using the Boat rockerz 400 for the past o...</td>\n",
       "      <td>5</td>\n",
       "    </tr>\n",
       "    <tr>\n",
       "      <th>979</th>\n",
       "      <td>Super sound and excellent clarity in both term...</td>\n",
       "      <td>5</td>\n",
       "    </tr>\n",
       "  </tbody>\n",
       "</table>\n",
       "<p>980 rows × 2 columns</p>\n",
       "</div>"
      ],
      "text/plain": [
       "                                               Reviews Rating\n",
       "0    It was nice produt. I like it's design a lot. ...      5\n",
       "1    awesome sound quality. pros 7-8 hrs of battery...      4\n",
       "2    awesome sound....very pretty to see this nd th...      5\n",
       "3    I think it is such a good product not only as ...      5\n",
       "4    Awsome sound powerful bass battery backup is a...      5\n",
       "..                                                 ...    ...\n",
       "975  Boat Rockerz 400. This is awesome Headphone on...      5\n",
       "976  best purchase  ➡️you can buy this product for ...      4\n",
       "977  too good in it's performance , sound quality i...      4\n",
       "978  I am using the Boat rockerz 400 for the past o...      5\n",
       "979  Super sound and excellent clarity in both term...      5\n",
       "\n",
       "[980 rows x 2 columns]"
      ]
     },
     "execution_count": 4,
     "metadata": {},
     "output_type": "execute_result"
    }
   ],
   "source": [
    "# pd.DataFrame(dataset).to_csv('data.csv',index=False)\n",
    "df=pd.DataFrame(dataset,columns=[\"Reviews\",\"Rating\"])\n",
    "df"
   ]
  },
  {
   "cell_type": "code",
   "execution_count": 5,
   "id": "09101ad9",
   "metadata": {},
   "outputs": [
    {
     "name": "stdout",
     "output_type": "stream",
     "text": [
      "<class 'pandas.core.frame.DataFrame'>\n",
      "RangeIndex: 980 entries, 0 to 979\n",
      "Data columns (total 2 columns):\n",
      " #   Column   Non-Null Count  Dtype \n",
      "---  ------   --------------  ----- \n",
      " 0   Reviews  980 non-null    object\n",
      " 1   Rating   980 non-null    object\n",
      "dtypes: object(2)\n",
      "memory usage: 15.4+ KB\n"
     ]
    }
   ],
   "source": [
    "df.info()"
   ]
  }
 ],
 "metadata": {
  "kernelspec": {
   "display_name": "Python 3 (ipykernel)",
   "language": "python",
   "name": "python3"
  },
  "language_info": {
   "codemirror_mode": {
    "name": "ipython",
    "version": 3
   },
   "file_extension": ".py",
   "mimetype": "text/x-python",
   "name": "python",
   "nbconvert_exporter": "python",
   "pygments_lexer": "ipython3",
   "version": "3.9.7"
  }
 },
 "nbformat": 4,
 "nbformat_minor": 5
}
